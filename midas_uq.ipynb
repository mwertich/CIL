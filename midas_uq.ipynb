{
 "cells": [
  {
   "cell_type": "code",
   "execution_count": 11,
   "id": "49393994-6fac-4ba1-bbbe-9bb17a909624",
   "metadata": {},
   "outputs": [],
   "source": [
    "import cv2\n",
    "import torch\n",
    "import torch.nn as nn\n",
    "\n",
    "import matplotlib.pyplot as plt"
   ]
  },
  {
   "cell_type": "code",
   "execution_count": 2,
   "id": "5b0703a6-e67a-48a9-8b9e-b77209c00258",
   "metadata": {},
   "outputs": [
    {
     "name": "stderr",
     "output_type": "stream",
     "text": [
      "/home/evrachoriti/CIL/lib/python3.12/site-packages/torch/hub.py:330: UserWarning: You are about to download and run code from an untrusted repository. In a future release, this won't be allowed. To add the repository to your trusted list, change the command to {calling_fn}(..., trust_repo=False) and a command prompt will appear asking for an explicit confirmation of trust, or load(..., trust_repo=True), which will assume that the prompt is to be answered with 'yes'. You can also use load(..., trust_repo='check') which will only prompt for confirmation if the repo is not already trusted. This will eventually be the default behaviour\n",
      "  warnings.warn(\n"
     ]
    },
    {
     "name": "stdout",
     "output_type": "stream",
     "text": [
      "Downloading: \"https://github.com/intel-isl/MiDaS/zipball/master\" to /home/evrachoriti/.cache/torch/hub/master.zip\n"
     ]
    },
    {
     "name": "stderr",
     "output_type": "stream",
     "text": [
      "/home/evrachoriti/CIL/lib/python3.12/site-packages/tqdm/auto.py:21: TqdmWarning: IProgress not found. Please update jupyter and ipywidgets. See https://ipywidgets.readthedocs.io/en/stable/user_install.html\n",
      "  from .autonotebook import tqdm as notebook_tqdm\n",
      "/home/evrachoriti/CIL/lib/python3.12/site-packages/timm/models/layers/__init__.py:48: FutureWarning: Importing from timm.models.layers is deprecated, please import via timm.layers\n",
      "  warnings.warn(f\"Importing from {__name__} is deprecated, please import via timm.layers\", FutureWarning)\n"
     ]
    },
    {
     "name": "stdout",
     "output_type": "stream",
     "text": [
      "Downloading: \"https://github.com/isl-org/MiDaS/releases/download/v3/dpt_large_384.pt\" to /home/evrachoriti/.cache/torch/hub/checkpoints/dpt_large_384.pt\n"
     ]
    },
    {
     "name": "stderr",
     "output_type": "stream",
     "text": [
      "100%|██████████| 1.28G/1.28G [00:15<00:00, 86.1MB/s]\n"
     ]
    }
   ],
   "source": [
    "model_type = \"DPT_Large\"     # MiDaS v3 - Large     (highest accuracy, slowest inference speed)\n",
    "#model_type = \"DPT_Hybrid\"   # MiDaS v3 - Hybrid    (medium accuracy, medium inference speed)\n",
    "#model_type = \"MiDaS_small\"  # MiDaS v2.1 - Small   (lowest accuracy, highest inference speed)\n",
    "\n",
    "midas = torch.hub.load(\"intel-isl/MiDaS\", model_type)"
   ]
  },
  {
   "cell_type": "code",
   "execution_count": 3,
   "id": "afc7e47a-6906-425a-b83e-69d828146834",
   "metadata": {},
   "outputs": [
    {
     "data": {
      "text/plain": [
       "midas.dpt_depth.DPTDepthModel"
      ]
     },
     "execution_count": 3,
     "metadata": {},
     "output_type": "execute_result"
    }
   ],
   "source": [
    "type(midas)"
   ]
  },
  {
   "cell_type": "code",
   "execution_count": 25,
   "id": "7c71b97c-c086-4062-b131-c611af19c5c9",
   "metadata": {},
   "outputs": [],
   "source": [
    "from midas.dpt_depth import DPT"
   ]
  },
  {
   "cell_type": "code",
   "execution_count": 26,
   "id": "da5f825c-a7ba-4ab2-a3ab-f100bd2a5148",
   "metadata": {},
   "outputs": [],
   "source": [
    "class MiDaS_UQ(DPT):\n",
    "    def __init__(self, **kwargs):\n",
    "        def __init__(self, path=None, non_negative=True, **kwargs):\n",
    "            features = kwargs[\"features\"] if \"features\" in kwargs else 256\n",
    "            head_features_1 = kwargs[\"head_features_1\"] if \"head_features_1\" in kwargs else features\n",
    "            head_features_2 = kwargs[\"head_features_2\"] if \"head_features_2\" in kwargs else 32\n",
    "            kwargs.pop(\"head_features_1\", None)\n",
    "            kwargs.pop(\"head_features_2\", None)\n",
    "    \n",
    "            head = nn.Sequential(\n",
    "                nn.Conv2d(head_features_1, head_features_1 // 2, kernel_size=3, stride=1, padding=1),\n",
    "                Interpolate(scale_factor=2, mode=\"bilinear\", align_corners=True),\n",
    "                nn.Conv2d(head_features_1 // 2, head_features_2, kernel_size=3, stride=1, padding=1),\n",
    "                nn.ReLU(True),\n",
    "                nn.Conv2d(head_features_2, 2, kernel_size=1, stride=1, padding=0),\n",
    "                # nn.ReLU(True) if non_negative else nn.Identity(),\n",
    "                # nn.Identity(),\n",
    "            )\n",
    "    \n",
    "            super().__init__(head, **kwargs)\n",
    "    \n",
    "            if path is not None:\n",
    "               self.load(path)\n",
    "\n",
    "        def forward(self, x):\n",
    "            return super().forward(x).squeeze(dim=1)"
   ]
  },
  {
   "cell_type": "code",
   "execution_count": 27,
   "id": "d9d14479-bcf4-4a7e-956a-a5a74c491f79",
   "metadata": {},
   "outputs": [],
   "source": [
    "class DepthUncertaintyLoss(nn.Module):\n",
    "    def __init__(self, eps=1e-6):\n",
    "        super().__init__()\n",
    "        self.gaussian_nll = nn.GaussianNLLLoss(eps=eps)\n",
    "\n",
    "    def forward(self, depth_pred, logvar_depth, depth_gr):\n",
    "        var = torch.exp(logvar_pred).clamp(min=1e-6)\n",
    "        return self.gaussian_nll(depth_pred, depth_gt, var)"
   ]
  },
  {
   "cell_type": "code",
   "execution_count": 29,
   "id": "61a7027a-06c5-4f98-b5b2-af56e0e6cd21",
   "metadata": {},
   "outputs": [],
   "source": [
    "midas_uq = MiDaS_UQ()"
   ]
  }
 ],
 "metadata": {
  "kernelspec": {
   "display_name": "CIL",
   "language": "python",
   "name": "cil"
  },
  "language_info": {
   "codemirror_mode": {
    "name": "ipython",
    "version": 3
   },
   "file_extension": ".py",
   "mimetype": "text/x-python",
   "name": "python",
   "nbconvert_exporter": "python",
   "pygments_lexer": "ipython3",
   "version": "3.12.3"
  }
 },
 "nbformat": 4,
 "nbformat_minor": 5
}
